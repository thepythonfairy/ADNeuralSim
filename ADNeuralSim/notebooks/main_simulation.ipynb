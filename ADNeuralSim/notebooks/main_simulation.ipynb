{
 "cells": [
  {
   "cell_type": "code",
   "execution_count": null,
   "id": "1f1647ae",
   "metadata": {},
   "outputs": [],
   "source": [
    "import sys\n",
    "sys.path.append('../modules')\n",
    "\n",
    "from spike_train import generate_spike_train\n",
    "\n",
    "#Optional Test: Generates spike trains oustide of HH Model, but I might remove this part later\n",
    "spikes = generate_spike_train(duration_ms=1000, rate_hz=20)\n",
    "print(\"Spike times (ms):\", spikes)"
   ]
  },
  {
   "cell_type": "code",
   "execution_count": null,
   "id": "bbb2a922",
   "metadata": {},
   "outputs": [],
   "source": [
    "from parameters import(\n",
    "    NUM_NEURONS, TIME_WINDOW_MS, DT_MS, HH_PARAMS,\n",
    "    CONNECTION_PROB, MIN_DELAY_MS, MAX_DELAY_MS,\n",
    "    INHIBITORY_RATIO, HEALTHY_RATE_RANGE\n",
    ")\n",
    "\n",
    "from connectivity import generate_connectivity_matrix #Harsh Patel\n",
    "from synaptic_delay import generate_synaptic_delays #Yael Robert\n",
    "from neuron_types import assign_neuron_types  #Piyush Singh\n",
    "from firing_rate import calculate_firing_rate #Dhruv Khatra\n",
    "from hh_model import build_hh_neuron_group #Steven Dang\n",
    "from visualization import plot_population_spike_trains #Karthik Emani"
   ]
  },
  {
   "cell_type": "code",
   "execution_count": null,
   "id": "7593d526",
   "metadata": {},
   "outputs": [],
   "source": [
    "#Building Network\n",
    "\n",
    "#Building neuron group using Hodgkin Huxley model\n",
    "neurons = build_hh_neuron_group(NUM_NEURONS, HH_PARAMS)\n",
    "\n",
    "#Generate network structure\n",
    "connectivity = generate_connectivity_matrix(NUM_NEURONS, CONNECTION_PROB)\n",
    "delays = generate_synaptic_delays(connectivity, MIN_DELAY_MS, MAX_DELAY_MS)\n",
    "types = assign_neuron_types(NUM_NEURONS, INHIBITORY_RATIO)"
   ]
  },
  {
   "cell_type": "code",
   "execution_count": null,
   "id": "e657b925",
   "metadata": {},
   "outputs": [],
   "source": [
    "#Simulate Spike Trains\n",
    "from brian2 import SpikeMonitor, StateMonitor, run \n",
    "\n",
    "#Attaching monitors\n",
    "spike_monitor = SpikeMonitor (neurons)\n",
    "volatage_monitor = StateMonitor(neurons, 'v', recprd=True)\n",
    "\n",
    "#Run Simulation\n",
    "run(TIME_WINDOW_MS * ms)"
   ]
  },
  {
   "cell_type": "code",
   "execution_count": null,
   "id": "0075880d",
   "metadata": {},
   "outputs": [],
   "source": [
    "#Tests spike trains generation outside of Brian2\n",
    "#I might remove this later if it proves to be redundant\n",
    "\n",
    "import numpy as np \n",
    "time_steps = int(TIME_WINDOW_MS / DT_MS)\n",
    "healthy_rates = np.random.uniform(*HEALTHY_RATE_RANGE, NUM_NEURONS)\n",
    "prob_per_ms = healthy_rates / 1000\n",
    "healthy_spikes = np.random(NUM_NEURONS, time_steps) < prob_per_ms[:, None]"
   ]
  },
  {
   "cell_type": "code",
   "execution_count": null,
   "id": "56b07177",
   "metadata": {},
   "outputs": [],
   "source": [
    "#Visualize population spike trains\n",
    "#Shows when neurons are fired\n",
    "plot_population_spike_trains(spike_monitor)\n",
    "\n",
    "#Plot voltage traces, it plots the membrane potential over time for a few neurons\n",
    "import matplotlib.pyplot as plt\n",
    "plt.figure(figsize=(12,4))\n",
    "for i in range(min(5,NUM_NEURONS)):\n",
    "    plt.plot(voltage_monitor.t/ms, voltage_monitor.v[i]/mV, label=f'Neuron {i}')\n",
    "plt.xlabel('Time (ms)')\n",
    "plt.ylabel('Membrane potential (mV)')\n",
    "plt.title('Voltage traces of sample neurons')\n",
    "plt.legend()\n",
    "plt.show()"
   ]
  }
 ],
 "metadata": {
  "language_info": {
   "name": "python"
  }
 },
 "nbformat": 4,
 "nbformat_minor": 5
}
